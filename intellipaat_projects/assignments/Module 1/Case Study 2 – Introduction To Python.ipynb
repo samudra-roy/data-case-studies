{
 "cells": [
  {
   "cell_type": "markdown",
   "id": "729211a7",
   "metadata": {},
   "source": [
    "# Case Study 2 – Introduction To Python"
   ]
  },
  {
   "cell_type": "markdown",
   "id": "d6c564af",
   "metadata": {},
   "source": [
    "## Problem Statement:\n",
    "Consider yourself to be Sam who is a data scientist. He has been invited as a\n",
    "guest lecturer at a college to take an introductory session on Python.\n",
    "## Tasks To Be Performed:\n",
    "1. Create 1st tuple with values -> (10, 20, 30), 2nd tuple with values -> (40, 50, 60):\n",
    "- a. Concatenate the two tuples and store it in “t_combine”\n",
    "- b. Repeat the elements of “t_combine” 3 times\n",
    "- c. Access the 3rd element from “t_combine”\n",
    "- d. Access the first three elements from “t_combine”\n",
    "- e. Access the last three elements from “t_combine”"
   ]
  },
  {
   "cell_type": "code",
   "execution_count": 2,
   "id": "52dac60e",
   "metadata": {},
   "outputs": [],
   "source": [
    "t1 = (10, 20, 30)\n",
    "t2 = (40, 50, 60)"
   ]
  },
  {
   "cell_type": "code",
   "execution_count": 3,
   "id": "1803f30d",
   "metadata": {},
   "outputs": [
    {
     "name": "stdout",
     "output_type": "stream",
     "text": [
      "(10, 20, 30, 40, 50, 60)\n"
     ]
    }
   ],
   "source": [
    "t_combine = t1+t2\n",
    "print(t_combine)"
   ]
  },
  {
   "cell_type": "code",
   "execution_count": 4,
   "id": "92817a5a",
   "metadata": {},
   "outputs": [
    {
     "data": {
      "text/plain": [
       "(10, 20, 30, 40, 50, 60, 10, 20, 30, 40, 50, 60, 10, 20, 30, 40, 50, 60)"
      ]
     },
     "execution_count": 4,
     "metadata": {},
     "output_type": "execute_result"
    }
   ],
   "source": [
    "t_combine*3"
   ]
  },
  {
   "cell_type": "code",
   "execution_count": 5,
   "id": "5098aac2",
   "metadata": {},
   "outputs": [
    {
     "data": {
      "text/plain": [
       "30"
      ]
     },
     "execution_count": 5,
     "metadata": {},
     "output_type": "execute_result"
    }
   ],
   "source": [
    "t_combine[2]"
   ]
  },
  {
   "cell_type": "code",
   "execution_count": 6,
   "id": "f78c4b83",
   "metadata": {},
   "outputs": [
    {
     "data": {
      "text/plain": [
       "(10, 20, 30)"
      ]
     },
     "execution_count": 6,
     "metadata": {},
     "output_type": "execute_result"
    }
   ],
   "source": [
    "t_combine[:3]"
   ]
  },
  {
   "cell_type": "code",
   "execution_count": 7,
   "id": "e7cc76e8",
   "metadata": {},
   "outputs": [
    {
     "data": {
      "text/plain": [
       "(40, 50, 60)"
      ]
     },
     "execution_count": 7,
     "metadata": {},
     "output_type": "execute_result"
    }
   ],
   "source": [
    "t_combine[-3:]"
   ]
  },
  {
   "cell_type": "markdown",
   "id": "5c8c24f1",
   "metadata": {},
   "source": [
    "2. Create a list ‘my_list’ with these elements:\n",
    "- a. First element is a tuple with values 1, 2, 3\n",
    "- b. Second element is a tuple with values “a”, “b”, “c”\n",
    "- c. Third element is a tuple with values True, False"
   ]
  },
  {
   "cell_type": "code",
   "execution_count": 14,
   "id": "a683abcd",
   "metadata": {},
   "outputs": [
    {
     "data": {
      "text/plain": [
       "[(1, 2, 3), ('a', 'b', 'c'), (True, False)]"
      ]
     },
     "execution_count": 14,
     "metadata": {},
     "output_type": "execute_result"
    }
   ],
   "source": [
    "my_list = [(1,2,3), ('a','b','c'), (True, False)]\n",
    "my_list"
   ]
  },
  {
   "cell_type": "markdown",
   "id": "216b216e",
   "metadata": {},
   "source": [
    "3. Append a new tuple – (1, ‘a’, True) to ‘my_list’:\n",
    "- a. Append a new list – *“sparta”, 123+ to my_list"
   ]
  },
  {
   "cell_type": "code",
   "execution_count": 15,
   "id": "3e7a9f96",
   "metadata": {},
   "outputs": [
    {
     "data": {
      "text/plain": [
       "[(1, 2, 3), ('a', 'b', 'c'), (True, False), (1, 'a', True)]"
      ]
     },
     "execution_count": 15,
     "metadata": {},
     "output_type": "execute_result"
    }
   ],
   "source": [
    "my_list.append((1, 'a', True))\n",
    "my_list"
   ]
  },
  {
   "cell_type": "code",
   "execution_count": 16,
   "id": "67a45341",
   "metadata": {},
   "outputs": [
    {
     "data": {
      "text/plain": [
       "[(1, 2, 3),\n",
       " ('a', 'b', 'c'),\n",
       " (True, False),\n",
       " (1, 'a', True),\n",
       " ['*\"sparta\"', '123+']]"
      ]
     },
     "execution_count": 16,
     "metadata": {},
     "output_type": "execute_result"
    }
   ],
   "source": [
    "my_list.append(['*\"sparta\"', '123+'])\n",
    "my_list"
   ]
  },
  {
   "cell_type": "markdown",
   "id": "a168a986",
   "metadata": {},
   "source": [
    "4. Create a dictionary ‘fruit’ where:\n",
    "- a. The first key is ‘Fruit’ and the values are (“Apple\", “Banana\", “Mango\", “Guava\")\n",
    "- b. The second key is ‘Cost’ and the values are (85, 54, 120, 70)\n",
    "- c. Extract all the keys from ‘fruit’\n",
    "- d. Extract all the values from ‘fruit’"
   ]
  },
  {
   "cell_type": "code",
   "execution_count": 21,
   "id": "b72b6a78",
   "metadata": {},
   "outputs": [
    {
     "data": {
      "text/plain": [
       "{'Fruit': ('Apple', 'Banana', 'Mango', 'Guava'), 'Cost': (85, 54, 120, 70)}"
      ]
     },
     "execution_count": 21,
     "metadata": {},
     "output_type": "execute_result"
    }
   ],
   "source": [
    "fruit = {'Fruit':(\"Apple\", \"Banana\", \"Mango\", \"Guava\"), 'Cost':(85, 54, 120, 70)}\n",
    "fruit"
   ]
  },
  {
   "cell_type": "code",
   "execution_count": 22,
   "id": "f4c3958e",
   "metadata": {},
   "outputs": [
    {
     "data": {
      "text/plain": [
       "dict_keys(['Fruit', 'Cost'])"
      ]
     },
     "execution_count": 22,
     "metadata": {},
     "output_type": "execute_result"
    }
   ],
   "source": [
    "fruit.keys()"
   ]
  },
  {
   "cell_type": "code",
   "execution_count": 23,
   "id": "77be4060",
   "metadata": {},
   "outputs": [
    {
     "data": {
      "text/plain": [
       "dict_values([('Apple', 'Banana', 'Mango', 'Guava'), (85, 54, 120, 70)])"
      ]
     },
     "execution_count": 23,
     "metadata": {},
     "output_type": "execute_result"
    }
   ],
   "source": [
    "fruit.values()"
   ]
  },
  {
   "cell_type": "markdown",
   "id": "f0ff54a9",
   "metadata": {},
   "source": [
    "5. Create a set named ‘my_set’ with values (1, 1, “a”, “a”, True, True) and print the result."
   ]
  },
  {
   "cell_type": "code",
   "execution_count": 28,
   "id": "21016b58",
   "metadata": {},
   "outputs": [
    {
     "name": "stdout",
     "output_type": "stream",
     "text": [
      "{1, 'a'}\n"
     ]
    }
   ],
   "source": [
    "my_set = {1, 1, \"a\", \"a\", True, True}\n",
    "print(my_set)"
   ]
  }
 ],
 "metadata": {
  "kernelspec": {
   "display_name": "Python 3 (ipykernel)",
   "language": "python",
   "name": "python3"
  },
  "language_info": {
   "codemirror_mode": {
    "name": "ipython",
    "version": 3
   },
   "file_extension": ".py",
   "mimetype": "text/x-python",
   "name": "python",
   "nbconvert_exporter": "python",
   "pygments_lexer": "ipython3",
   "version": "3.10.9"
  }
 },
 "nbformat": 4,
 "nbformat_minor": 5
}
