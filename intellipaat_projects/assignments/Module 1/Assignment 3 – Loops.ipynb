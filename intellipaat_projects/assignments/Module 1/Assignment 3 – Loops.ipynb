{
 "cells": [
  {
   "cell_type": "markdown",
   "id": "d6a26657",
   "metadata": {},
   "source": [
    "# Assignment 3 – Loops"
   ]
  },
  {
   "cell_type": "markdown",
   "id": "2b6d457d",
   "metadata": {},
   "source": [
    "## Problem Statement:\n",
    "You work in XYZ Corporation as a Data Analyst. Your company has told you to work with the looping statements.\n",
    "## Tasks To Be Performed:\n",
    "1. Print the numbers from 1 to 10 using while loop.\n"
   ]
  },
  {
   "cell_type": "code",
   "execution_count": 3,
   "id": "fe5611cd",
   "metadata": {},
   "outputs": [
    {
     "name": "stdout",
     "output_type": "stream",
     "text": [
      "1\n",
      "2\n",
      "3\n",
      "4\n",
      "5\n",
      "6\n",
      "7\n",
      "8\n",
      "9\n",
      "10\n"
     ]
    }
   ],
   "source": [
    "i = 1\n",
    "while i<=10:\n",
    "    print(i)\n",
    "    i += 1"
   ]
  },
  {
   "cell_type": "code",
   "execution_count": null,
   "id": "6a02ca6c",
   "metadata": {},
   "outputs": [],
   "source": []
  }
 ],
 "metadata": {
  "kernelspec": {
   "display_name": "Python 3 (ipykernel)",
   "language": "python",
   "name": "python3"
  },
  "language_info": {
   "codemirror_mode": {
    "name": "ipython",
    "version": 3
   },
   "file_extension": ".py",
   "mimetype": "text/x-python",
   "name": "python",
   "nbconvert_exporter": "python",
   "pygments_lexer": "ipython3",
   "version": "3.10.9"
  }
 },
 "nbformat": 4,
 "nbformat_minor": 5
}
