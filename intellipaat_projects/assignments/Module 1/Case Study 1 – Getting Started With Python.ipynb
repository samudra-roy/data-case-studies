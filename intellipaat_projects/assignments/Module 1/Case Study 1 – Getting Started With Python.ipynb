{
 "cells": [
  {
   "cell_type": "markdown",
   "id": "e32f15e5",
   "metadata": {},
   "source": [
    "# Case Study 1 – Getting Started With Python"
   ]
  },
  {
   "cell_type": "markdown",
   "id": "938f8867",
   "metadata": {},
   "source": [
    "## Problem Statement:\n",
    "Consider yourself to be Sam who is a data scientist. He has been invited as a guest lecturer at a college to take an introductory session on Python.\n",
    "## Tasks To Be Performed:\n",
    "1. Create a list containing squares of numbers from 1 to 10 (HINT: use List Comprehension).\n",
    "\n",
    "3. Write a function to take an array and return another array that contains the members of the first array that are even.\n",
    "4. Write a function that takes 2 arrays and prints the members of the first array that are present in the second array. (HINT: use Membership Comprehension)\n"
   ]
  },
  {
   "cell_type": "code",
   "execution_count": 13,
   "id": "1c28c98a",
   "metadata": {
    "scrolled": true
   },
   "outputs": [
    {
     "data": {
      "text/plain": [
       "[1, 4, 9, 16, 25, 36, 49, 64, 81, 100]"
      ]
     },
     "execution_count": 13,
     "metadata": {},
     "output_type": "execute_result"
    }
   ],
   "source": [
    "#Create a list containing squares of numbers from 1 to 10 (HINT: use List Comprehension).\n",
    "ls = [i*i for i in range(1,11)]\n",
    "ls"
   ]
  },
  {
   "cell_type": "code",
   "execution_count": 14,
   "id": "46de958c",
   "metadata": {},
   "outputs": [],
   "source": [
    "#Write a function to check if the year number is a leap year.\n",
    "def year_check(year):\n",
    "    ly = False\n",
    "    if year%400==0:\n",
    "        ly = True\n",
    "    else:\n",
    "        if year%4==0:\n",
    "            ly=True\n",
    "    \n",
    "    if ly:\n",
    "        print(\"Leap year\")\n",
    "    else:\n",
    "        print(\"Not a leap year\")"
   ]
  },
  {
   "cell_type": "code",
   "execution_count": 12,
   "id": "209b9099",
   "metadata": {},
   "outputs": [
    {
     "name": "stdout",
     "output_type": "stream",
     "text": [
      "Leap year\n"
     ]
    }
   ],
   "source": [
    "year_check(1900)"
   ]
  },
  {
   "cell_type": "code",
   "execution_count": 15,
   "id": "712ac93a",
   "metadata": {},
   "outputs": [],
   "source": [
    "#Write a function to take an array and return another array that contains the members of the first array that are even.\n",
    "def even(a):\n",
    "    a2 = [i for i in a if i%2==0]\n",
    "    return(a2)"
   ]
  },
  {
   "cell_type": "code",
   "execution_count": 17,
   "id": "8efafeda",
   "metadata": {},
   "outputs": [
    {
     "data": {
      "text/plain": [
       "[2, 4, 6, 8, 10]"
      ]
     },
     "execution_count": 17,
     "metadata": {},
     "output_type": "execute_result"
    }
   ],
   "source": [
    "even([1,2,3,4,5,6,7,8,9,10])"
   ]
  },
  {
   "cell_type": "code",
   "execution_count": 18,
   "id": "e47caf34",
   "metadata": {},
   "outputs": [],
   "source": [
    "#Write a function that takes 2 arrays and prints the members of the first array that are present in the second array. (HINT: use Membership Comprehension)\n",
    "def common(a,b):\n",
    "    x = [i for i in a if i in b]\n",
    "    return(x)"
   ]
  },
  {
   "cell_type": "code",
   "execution_count": 23,
   "id": "4fa83911",
   "metadata": {},
   "outputs": [
    {
     "data": {
      "text/plain": [
       "[1, 2, 5]"
      ]
     },
     "execution_count": 23,
     "metadata": {},
     "output_type": "execute_result"
    }
   ],
   "source": [
    "a = [1,2,3,4,5]\n",
    "b = [1,2,10,15,5]\n",
    "common(a,b)"
   ]
  }
 ],
 "metadata": {
  "kernelspec": {
   "display_name": "Python 3 (ipykernel)",
   "language": "python",
   "name": "python3"
  },
  "language_info": {
   "codemirror_mode": {
    "name": "ipython",
    "version": 3
   },
   "file_extension": ".py",
   "mimetype": "text/x-python",
   "name": "python",
   "nbconvert_exporter": "python",
   "pygments_lexer": "ipython3",
   "version": "3.10.9"
  }
 },
 "nbformat": 4,
 "nbformat_minor": 5
}
