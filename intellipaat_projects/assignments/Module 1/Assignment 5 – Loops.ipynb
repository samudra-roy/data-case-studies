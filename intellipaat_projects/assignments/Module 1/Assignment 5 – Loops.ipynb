{
 "cells": [
  {
   "cell_type": "markdown",
   "id": "02250cba",
   "metadata": {},
   "source": [
    "# Assignment 5 – Loops"
   ]
  },
  {
   "cell_type": "markdown",
   "id": "4ea88392",
   "metadata": {},
   "source": [
    "## Problem Statement:\n",
    "You work in XYZ Corporation as a Data Analyst. Your company has told you to work with the looping statements.\n",
    "## Tasks To Be Performed:\n",
    "1. Create an array that has user defined inputs and with the help of for loop, fetch all the prime numbers and print the numbers."
   ]
  },
  {
   "cell_type": "code",
   "execution_count": 18,
   "id": "cfdb4d11",
   "metadata": {},
   "outputs": [
    {
     "name": "stdout",
     "output_type": "stream",
     "text": [
      "Enter number of elements: 10\n",
      "1\n",
      "2\n",
      "5\n",
      "7\n",
      "20\n",
      "26\n",
      "73\n",
      "28\n",
      "13\n",
      "202\n",
      "[1, 2, 5, 7, 73, 13]\n"
     ]
    }
   ],
   "source": [
    "n = int(input(\"Enter number of elements: \"))\n",
    "ls = []\n",
    "for i in range(n):\n",
    "    prime = True\n",
    "    inp = int(input())\n",
    "    for j in range(2, inp):\n",
    "        if inp%j==0:\n",
    "            prime = False\n",
    "            break\n",
    "            \n",
    "    if prime:\n",
    "        ls.append(inp)\n",
    "print(ls)"
   ]
  },
  {
   "cell_type": "code",
   "execution_count": null,
   "id": "b7908ff1",
   "metadata": {},
   "outputs": [],
   "source": []
  }
 ],
 "metadata": {
  "kernelspec": {
   "display_name": "Python 3 (ipykernel)",
   "language": "python",
   "name": "python3"
  },
  "language_info": {
   "codemirror_mode": {
    "name": "ipython",
    "version": 3
   },
   "file_extension": ".py",
   "mimetype": "text/x-python",
   "name": "python",
   "nbconvert_exporter": "python",
   "pygments_lexer": "ipython3",
   "version": "3.10.9"
  }
 },
 "nbformat": 4,
 "nbformat_minor": 5
}
