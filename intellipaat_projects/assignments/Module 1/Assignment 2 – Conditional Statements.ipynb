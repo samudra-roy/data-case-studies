{
 "cells": [
  {
   "cell_type": "markdown",
   "id": "d1919d11",
   "metadata": {},
   "source": [
    "# Assignment 2 – Conditional Statements"
   ]
  },
  {
   "cell_type": "markdown",
   "id": "ffaabe7d",
   "metadata": {},
   "source": [
    "## Problem Statement:\n",
    "You work in XYZ Corporation as a Data Analyst. Your company has told you to work with the if-else condition.\n",
    "\n",
    "## Tasks To Be Performed:\n",
    "1. Take three user inputs and print the greatest number from those inputs using if-else condition. Edge cases, if any, should also be handled."
   ]
  },
  {
   "cell_type": "code",
   "execution_count": 10,
   "id": "4ca940e0",
   "metadata": {},
   "outputs": [
    {
     "name": "stdout",
     "output_type": "stream",
     "text": [
      "Enter a: 1\n",
      "Enter b: 2\n",
      "Enter c: 0\n"
     ]
    }
   ],
   "source": [
    "a = int(input(\"Enter a: \"))\n",
    "b = int(input(\"Enter b: \"))\n",
    "c = int(input(\"Enter c: \"))"
   ]
  },
  {
   "cell_type": "code",
   "execution_count": 11,
   "id": "31044e0c",
   "metadata": {},
   "outputs": [
    {
     "name": "stdout",
     "output_type": "stream",
     "text": [
      "The greatest is 2\n"
     ]
    }
   ],
   "source": [
    "greatest = a\n",
    "if a>b and a>c:\n",
    "    greatest = a\n",
    "elif b>a and b>c:\n",
    "    greatest = b\n",
    "else:\n",
    "    greatest = c\n",
    "    \n",
    "print(f'The greatest is {greatest}')"
   ]
  },
  {
   "cell_type": "code",
   "execution_count": null,
   "id": "6ec5d04a",
   "metadata": {},
   "outputs": [],
   "source": []
  }
 ],
 "metadata": {
  "kernelspec": {
   "display_name": "Python 3 (ipykernel)",
   "language": "python",
   "name": "python3"
  },
  "language_info": {
   "codemirror_mode": {
    "name": "ipython",
    "version": 3
   },
   "file_extension": ".py",
   "mimetype": "text/x-python",
   "name": "python",
   "nbconvert_exporter": "python",
   "pygments_lexer": "ipython3",
   "version": "3.10.9"
  }
 },
 "nbformat": 4,
 "nbformat_minor": 5
}
