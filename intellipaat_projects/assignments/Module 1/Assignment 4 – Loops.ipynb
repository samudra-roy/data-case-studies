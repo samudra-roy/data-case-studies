{
 "cells": [
  {
   "cell_type": "markdown",
   "id": "daa03b94",
   "metadata": {},
   "source": [
    "# Assignment 4 – Loops"
   ]
  },
  {
   "cell_type": "markdown",
   "id": "64038a2b",
   "metadata": {},
   "source": [
    "## Problem Statement:\n",
    "You work in XYZ Corporation as a Data Analyst. Your company has told you to work with the looping statements.\n",
    "## Tasks To Be Performed:\n",
    "1. Create a list that has 10, 23, 4, 26, 4, 75, 24, 54 values and with the help of while loop fetch the even numbers and print the numbers."
   ]
  },
  {
   "cell_type": "code",
   "execution_count": 7,
   "id": "17b72265",
   "metadata": {},
   "outputs": [],
   "source": [
    "ls = [10, 23, 4, 26, 4, 75, 24, 54]"
   ]
  },
  {
   "cell_type": "code",
   "execution_count": 8,
   "id": "3d172166",
   "metadata": {},
   "outputs": [
    {
     "name": "stdout",
     "output_type": "stream",
     "text": [
      "10\n",
      "4\n",
      "26\n",
      "4\n",
      "24\n",
      "54\n"
     ]
    }
   ],
   "source": [
    "i=0\n",
    "while i<len(ls) :\n",
    "    if(ls[i]%2==0):\n",
    "        print(ls[i])\n",
    "    i += 1"
   ]
  }
 ],
 "metadata": {
  "kernelspec": {
   "display_name": "Python 3 (ipykernel)",
   "language": "python",
   "name": "python3"
  },
  "language_info": {
   "codemirror_mode": {
    "name": "ipython",
    "version": 3
   },
   "file_extension": ".py",
   "mimetype": "text/x-python",
   "name": "python",
   "nbconvert_exporter": "python",
   "pygments_lexer": "ipython3",
   "version": "3.10.9"
  }
 },
 "nbformat": 4,
 "nbformat_minor": 5
}
