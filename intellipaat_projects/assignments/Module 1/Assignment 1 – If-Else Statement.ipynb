{
 "cells": [
  {
   "cell_type": "markdown",
   "id": "75ab7d8b",
   "metadata": {},
   "source": [
    "# Assignment 1 – If-Else Statement"
   ]
  },
  {
   "cell_type": "markdown",
   "id": "d0a6ff7c",
   "metadata": {},
   "source": [
    "## Problem Statement:\n",
    "You work in XYZ Corporation as a Data Analyst. Your company has told you to\n",
    "work with the if-else condition.\n",
    "\n",
    "## Tasks To Be Performed:\n",
    "1. Input the values of a and b as 10 and 20 respectively. Now check if a is greater or b is greater using if condition. Think about all the edge cases, and print the statements accordingly.\n"
   ]
  },
  {
   "cell_type": "code",
   "execution_count": 7,
   "id": "eba39773",
   "metadata": {},
   "outputs": [],
   "source": [
    "a, b = 10, 20"
   ]
  },
  {
   "cell_type": "code",
   "execution_count": 8,
   "id": "c287284f",
   "metadata": {},
   "outputs": [
    {
     "name": "stdout",
     "output_type": "stream",
     "text": [
      "b is greater\n"
     ]
    }
   ],
   "source": [
    "if a>b:\n",
    "    print('a is greater')\n",
    "elif a<b:\n",
    "    print('b is greater')\n",
    "else:\n",
    "    print('both are equal')"
   ]
  }
 ],
 "metadata": {
  "kernelspec": {
   "display_name": "Python 3 (ipykernel)",
   "language": "python",
   "name": "python3"
  },
  "language_info": {
   "codemirror_mode": {
    "name": "ipython",
    "version": 3
   },
   "file_extension": ".py",
   "mimetype": "text/x-python",
   "name": "python",
   "nbconvert_exporter": "python",
   "pygments_lexer": "ipython3",
   "version": "3.10.9"
  }
 },
 "nbformat": 4,
 "nbformat_minor": 5
}
