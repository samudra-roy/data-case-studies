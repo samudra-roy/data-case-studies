{
 "cells": [
  {
   "cell_type": "markdown",
   "id": "0c818c8b",
   "metadata": {},
   "source": [
    "# Case Study 1 – Concept Of OOPs"
   ]
  },
  {
   "cell_type": "markdown",
   "id": "faad8d6e",
   "metadata": {},
   "source": [
    "## Problem Statement:\n",
    "Consider yourself to be Sam who is a software engineer. He has been asked to\n",
    "build an employee management app. You have to use the OOPs concept to build\n",
    "a few classes as outlined in the steps below.\n",
    "## Tasks To Be Performed:\n",
    "1. Create a class named Employee, with a constructor ‘__init__’ method that\n",
    "accepts name and salary as parameters and set properties named name\n",
    "and salary.\n",
    "2. Define __str__ method in Employee class so that when someone tries to\n",
    "print the object the string Name: employee_name, Salary:\n",
    "employee_salary is printed with the actual employee name and salary.\n",
    "3. Create another class named Calculator, with methods to add, subtract,\n",
    "multiply and divide two numbers.\n",
    "4. These methods take two numbers as parameters.\n",
    "5. These methods will be called by a method named execute command.\n",
    "6. Execute command takes in 3 parameters command which is string that can\n",
    "be either ‘add’, ‘sub’, ‘mul’, ‘div’, and two numbers and it will call the\n",
    "appropriate method based on command parameter.\n"
   ]
  },
  {
   "cell_type": "code",
   "execution_count": 3,
   "id": "f2558846",
   "metadata": {},
   "outputs": [
    {
     "name": "stdout",
     "output_type": "stream",
     "text": [
      "Name: Sam, Salary: 20000\n"
     ]
    }
   ],
   "source": [
    "class Employee:\n",
    "    def __init__(self, name, salary):\n",
    "        self.name = name\n",
    "        self.salary = salary\n",
    "    def str(self):\n",
    "        print(f'Name: {self.name}, Salary: {self.salary}')\n",
    "        \n",
    "obj = Employee('Sam', 20000)\n",
    "obj.str()"
   ]
  },
  {
   "cell_type": "code",
   "execution_count": 9,
   "id": "4d547be7",
   "metadata": {},
   "outputs": [
    {
     "name": "stdout",
     "output_type": "stream",
     "text": [
      "12\n",
      "8\n",
      "20\n",
      "5.0\n"
     ]
    }
   ],
   "source": [
    "class Calculator:\n",
    "    def add(self, a, b):\n",
    "        return a+b\n",
    "    def subtract(self, a, b):\n",
    "        return a-b\n",
    "    def multilpy(self, a, b):\n",
    "        return a*b\n",
    "    def divide(self, a, b):\n",
    "        return a/b\n",
    "    def execute_command(self,command,a,b):\n",
    "        if (command=='add'):\n",
    "            print(self.add(a,b))\n",
    "        elif (command=='sub'):\n",
    "            print(self.subtract(a,b))\n",
    "        elif (command=='mul'):\n",
    "            print(self.multilpy(a,b))\n",
    "        elif (command=='div'):\n",
    "            print(self.divide(a,b))\n",
    "        else:\n",
    "            pass\n",
    "        \n",
    "obj = Calculator()\n",
    "obj.execute_command('add', 10, 2)\n",
    "obj.execute_command('sub', 10, 2)\n",
    "obj.execute_command('mul', 10, 2)\n",
    "obj.execute_command('div', 10, 2)"
   ]
  },
  {
   "cell_type": "code",
   "execution_count": null,
   "id": "26b0b1a9",
   "metadata": {},
   "outputs": [],
   "source": []
  }
 ],
 "metadata": {
  "kernelspec": {
   "display_name": "Python 3 (ipykernel)",
   "language": "python",
   "name": "python3"
  },
  "language_info": {
   "codemirror_mode": {
    "name": "ipython",
    "version": 3
   },
   "file_extension": ".py",
   "mimetype": "text/x-python",
   "name": "python",
   "nbconvert_exporter": "python",
   "pygments_lexer": "ipython3",
   "version": "3.10.9"
  }
 },
 "nbformat": 4,
 "nbformat_minor": 5
}
