{
 "cells": [
  {
   "cell_type": "markdown",
   "id": "80e9e1b4",
   "metadata": {},
   "source": [
    "# Assignment 4 – Inheritance"
   ]
  },
  {
   "cell_type": "markdown",
   "id": "81b28d42",
   "metadata": {},
   "source": [
    "## Problem Statement:\n",
    "You work in XYZ Corporation as a Data Analyst. Your corporation has told you to\n",
    "work with the inheritance of the classes.\n",
    "## Tasks To Be Performed:\n",
    "1. Create a class named parent_Class and inside the class, initialize a global\n",
    "variable num as 10\n",
    "- a. Create another class named child_Class and this class should be\n",
    "inherited from the parent class.\n",
    "- b. Now create an object for the child_Class and with the help of\n",
    "child_Class object, display the value of ‘num’.\n",
    "2. Create three classes named A, B and C\n",
    "- a. Inside the A class, create a constructor. Inside the constructor, initialize\n",
    "2 global variables name and age.\n",
    "- b. After initializing the global variables inside the constructor, now create a\n",
    "function named ‘details’ and that function should return the ‘name’ variable.\n",
    "- c. Inside the B class, create a constructor. Inside the constructor, initialize 2\n",
    "global variables name and id.\n",
    "- d. After initializing the global variables inside the constructor, now create a\n",
    "function named ‘details’ and that function should return the ‘name’ variable.\n",
    "- e. The C class should inherit from class A, and B. Inside the class C,\n",
    "create a constructor, and inside the constructor, call the constructor of\n",
    "class A.\n",
    "- f. Now, create a method inside the class C, as get_details, and this function\n",
    "should return the value of name.\n",
    "- g. Atlast, create an object of class C, and with the help of the object, call\n",
    "the get_details().\n",
    "3. Create a class named ‘Sub1’, inside the class, generate a user defined\n",
    "function named ‘first’ and inside the function, pass the following statement\n",
    "in the print()- ‘This is the first function from Sub 1 class’.\n",
    "- a. Now create another class named ‘Sub2’, and inside the class, create a\n",
    "function named ‘second’, and pass the following message in the print()-\n",
    "‘This is the second function from the Sub 2 class’.\n",
    "- b. After that, create another class named ‘Super’ and inside that class,\n",
    "create a method named ‘final’, and pass the below message in the print()-\n",
    "‘This is the final method from the super class’.\n",
    "- c. Now, create an object for the Super class and call all the 3 user defined\n",
    "methods, i.e., first(), second(), and final().\n",
    "4. Create a class named ‘Parent’, and inside the class, create a function\n",
    "named ‘fun1’ and pass the following message in the print()- ‘This is the\n",
    "message from the fun1’.\n",
    "- a. Now create a class named ‘Child1’ and inside the class, create a\n",
    "method named ‘fun2’ and pass the following message in the print()- ‘This is\n",
    "the message from the fun2’.\n",
    "- b. After that, create another class named ‘Child2’ and inside the class,\n",
    "create a method named ‘fun3’ and pass the following message in the\n",
    "print()- ‘This is the message from the fun3’.\n",
    "- c. Now, create an object of Child2 class and with the help of the object, call\n",
    "the ‘fun1’ method from the ‘Parent’ class.\n",
    "5. Create a class named ‘Parent’, and inside the class, create a function\n",
    "named ‘fun1’ and pass the following message in the print()- ‘This is the\n",
    "message from the fun1’.\n",
    "- a. Now create a class named ‘Child’ and inside the class, create a method\n",
    "named ‘fun2’ and pass the following message in the print()- ‘This is the\n",
    "message from the fun2’.\n",
    "- b. After that, create another class named ‘Hybrid’ and inside the class,\n",
    "create a method named ‘fun3’ and pass the following message in the\n",
    "print()- ‘This is the message from the fun3’.\n",
    "- c. Now create an object of Hybrid class and with the help of the object, call\n",
    "the ‘fun1’, ‘fun2’ and ‘fun3’ methods."
   ]
  },
  {
   "cell_type": "code",
   "execution_count": 4,
   "id": "907d4824",
   "metadata": {},
   "outputs": [
    {
     "data": {
      "text/plain": [
       "10"
      ]
     },
     "execution_count": 4,
     "metadata": {},
     "output_type": "execute_result"
    }
   ],
   "source": [
    "class parent_Class:\n",
    "    global num\n",
    "    num = 10\n",
    "    \n",
    "class child_Class(parent_Class):\n",
    "    def __init__(self):\n",
    "        self.num = num\n",
    "\n",
    "obj = child_Class()\n",
    "obj.num"
   ]
  },
  {
   "cell_type": "code",
   "execution_count": 12,
   "id": "03f63632",
   "metadata": {},
   "outputs": [
    {
     "data": {
      "text/plain": [
       "'Sam'"
      ]
     },
     "execution_count": 12,
     "metadata": {},
     "output_type": "execute_result"
    }
   ],
   "source": [
    "class A:\n",
    "    def __init__(self):\n",
    "        global name, age\n",
    "        name, age = 'Sam', 28\n",
    "    def details(self):\n",
    "        self.name = name\n",
    "        return(self.name)\n",
    "    \n",
    "class B:\n",
    "    def __init__(self):\n",
    "        global name, id\n",
    "        name, id = 'Sid', 82\n",
    "    def details(self):\n",
    "        self.name = name\n",
    "        return(self.name)\n",
    "        \n",
    "class C(A,B):\n",
    "    def __init__(self):\n",
    "        A.__init__(self)\n",
    "    def get_details(self):\n",
    "        self.details()\n",
    "        return(self.name)\n",
    "    \n",
    "obj = C()\n",
    "obj.get_details()"
   ]
  },
  {
   "cell_type": "code",
   "execution_count": 14,
   "id": "676f19c5",
   "metadata": {},
   "outputs": [
    {
     "name": "stdout",
     "output_type": "stream",
     "text": [
      "This is the first function from Sub 1 class\n",
      "This is the second function from the Sub 2 class\n",
      "This is the final method from the super class\n"
     ]
    }
   ],
   "source": [
    "class Sub1:\n",
    "    def first(self):\n",
    "        print('This is the first function from Sub 1 class')\n",
    "        \n",
    "class Sub2:\n",
    "    def second(self):\n",
    "        print('This is the second function from the Sub 2 class')\n",
    "        \n",
    "class Super(Sub1, Sub2):\n",
    "    def final(self):\n",
    "        print('This is the final method from the super class')\n",
    "        \n",
    "obj = Super()\n",
    "obj.first()\n",
    "obj.second()\n",
    "obj.final()"
   ]
  },
  {
   "cell_type": "code",
   "execution_count": 15,
   "id": "bb03f0f8",
   "metadata": {},
   "outputs": [
    {
     "name": "stdout",
     "output_type": "stream",
     "text": [
      "This is the message from the fun1\n"
     ]
    }
   ],
   "source": [
    "class Parent:\n",
    "    def fun1(self):\n",
    "         print('This is the message from the fun1')\n",
    "            \n",
    "class Child1(Parent):\n",
    "    def fun1(self):\n",
    "         print('This is the message from the fun2')\n",
    "            \n",
    "class Child2(Parent):\n",
    "    def fun3(self):\n",
    "         print('This is the message from the fun3')\n",
    "            \n",
    "obj = Child2()\n",
    "obj.fun1()"
   ]
  },
  {
   "cell_type": "code",
   "execution_count": 18,
   "id": "967db97d",
   "metadata": {},
   "outputs": [
    {
     "name": "stdout",
     "output_type": "stream",
     "text": [
      "This is the message from the fun1\n",
      "This is the message from the fun2\n",
      "This is the message from the fun3\n"
     ]
    }
   ],
   "source": [
    "class Parent:\n",
    "    def fun1(self):\n",
    "         print('This is the message from the fun1')\n",
    "            \n",
    "class Child(Parent):\n",
    "    def fun2(self):\n",
    "         print('This is the message from the fun2')\n",
    "            \n",
    "class Hybrid(Child):\n",
    "    def fun3(self):\n",
    "         print('This is the message from the fun3')\n",
    "            \n",
    "obj = Hybrid()\n",
    "obj.fun1()\n",
    "obj.fun2()\n",
    "obj.fun3()"
   ]
  },
  {
   "cell_type": "code",
   "execution_count": null,
   "id": "42643914",
   "metadata": {},
   "outputs": [],
   "source": []
  }
 ],
 "metadata": {
  "kernelspec": {
   "display_name": "Python 3 (ipykernel)",
   "language": "python",
   "name": "python3"
  },
  "language_info": {
   "codemirror_mode": {
    "name": "ipython",
    "version": 3
   },
   "file_extension": ".py",
   "mimetype": "text/x-python",
   "name": "python",
   "nbconvert_exporter": "python",
   "pygments_lexer": "ipython3",
   "version": "3.10.9"
  }
 },
 "nbformat": 4,
 "nbformat_minor": 5
}
