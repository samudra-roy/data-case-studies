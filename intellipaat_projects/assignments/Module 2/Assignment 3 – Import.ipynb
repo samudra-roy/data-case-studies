{
 "cells": [
  {
   "cell_type": "markdown",
   "id": "551251ba",
   "metadata": {},
   "source": [
    "# Assignment 3 – Import"
   ]
  },
  {
   "cell_type": "markdown",
   "id": "3271e46a",
   "metadata": {},
   "source": [
    "## Problem Statement:\n",
    "You work in XYZ Corporation as a Data Analyst. Your corporation has told you to\n",
    "work on importing various functions.\n"
   ]
  },
  {
   "cell_type": "markdown",
   "id": "b5937535",
   "metadata": {},
   "source": [
    "## Tasks To Be Performed:\n",
    "1. Create a Python file named Module:\n",
    "- a. Inside the file, define 4 methods named – addition, subtraction,\n",
    "multiplication, and division.\n",
    "- b. Each method should only accept 2 arguments and should return the\n",
    "result of operation performed in each method. For e.g., addition() should\n",
    "return the sum of two arguments.\n",
    "- c. Save the Module file in .py format.\n",
    "2. Open a new python file and import the Module.py file\n",
    "- a. Now call the 4 methods from the Module.py file, i.e., addition(),\n",
    "subtraction(), multiplication(), and division().\n",
    "3. From the Module file, import only the addition() and pass the arguments so\n",
    "that it can display the result from the method.\n",
    "4. From the Module file, import only the subtraction() and pass the arguments\n",
    "so that it can display the result from the method.\n",
    "5. From the Module file, import both the multiplication() and division() and\n",
    "pass the arguments so that it can display the result from the methods.\n"
   ]
  },
  {
   "cell_type": "code",
   "execution_count": 1,
   "id": "3c881315",
   "metadata": {},
   "outputs": [],
   "source": [
    "import Module"
   ]
  },
  {
   "cell_type": "code",
   "execution_count": 2,
   "id": "4f15a391",
   "metadata": {},
   "outputs": [
    {
     "name": "stdout",
     "output_type": "stream",
     "text": [
      "15\n",
      "5\n",
      "50\n",
      "2.0\n"
     ]
    }
   ],
   "source": [
    "print(Module.addition(10,5))\n",
    "print(Module.subtraction(10,5))\n",
    "print(Module.multiplication(10,5))\n",
    "print(Module.division(10,5))"
   ]
  },
  {
   "cell_type": "code",
   "execution_count": 4,
   "id": "31a8a5e3",
   "metadata": {},
   "outputs": [
    {
     "data": {
      "text/plain": [
       "120"
      ]
     },
     "execution_count": 4,
     "metadata": {},
     "output_type": "execute_result"
    }
   ],
   "source": [
    "from Module import addition\n",
    "addition(100,20)"
   ]
  },
  {
   "cell_type": "code",
   "execution_count": 3,
   "id": "5c050ce4",
   "metadata": {},
   "outputs": [
    {
     "data": {
      "text/plain": [
       "80"
      ]
     },
     "execution_count": 3,
     "metadata": {},
     "output_type": "execute_result"
    }
   ],
   "source": [
    "from Module import subtraction\n",
    "subtraction(100,20)"
   ]
  },
  {
   "cell_type": "code",
   "execution_count": 7,
   "id": "04922eac",
   "metadata": {},
   "outputs": [
    {
     "name": "stdout",
     "output_type": "stream",
     "text": [
      "2000\n",
      "5.0\n"
     ]
    }
   ],
   "source": [
    "from Module import multiplication, division\n",
    "print(multiplication(100,20))\n",
    "print(division(100,20))"
   ]
  },
  {
   "cell_type": "code",
   "execution_count": null,
   "id": "5558d6ab",
   "metadata": {},
   "outputs": [],
   "source": []
  }
 ],
 "metadata": {
  "kernelspec": {
   "display_name": "Python 3 (ipykernel)",
   "language": "python",
   "name": "python3"
  },
  "language_info": {
   "codemirror_mode": {
    "name": "ipython",
    "version": 3
   },
   "file_extension": ".py",
   "mimetype": "text/x-python",
   "name": "python",
   "nbconvert_exporter": "python",
   "pygments_lexer": "ipython3",
   "version": "3.10.9"
  }
 },
 "nbformat": 4,
 "nbformat_minor": 5
}
