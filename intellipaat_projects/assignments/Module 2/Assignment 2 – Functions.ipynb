{
 "cells": [
  {
   "cell_type": "markdown",
   "id": "1eeebcc4",
   "metadata": {},
   "source": [
    "# Assignment 2 – Functions"
   ]
  },
  {
   "cell_type": "markdown",
   "id": "e76fc773",
   "metadata": {},
   "source": [
    "## Problem Statement:\n",
    "You work in XYZ Corporation as a Python Developer. Your corporation has told\n",
    "you to work with the methods, and functions in Python."
   ]
  },
  {
   "cell_type": "markdown",
   "id": "ebe5dd75",
   "metadata": {},
   "source": [
    "## Tasks To Be Performed:\n",
    "1. Create a class named ‘Super’ and inside that class define a user-defined function named fun1\n",
    "- a. Inside the ‘fun1’ function, pass the message “This is function 1 in the\n",
    "Super class.” in the print statement.\n",
    "2. Create another class named ‘Modified_Super’ and inherit this class from\n",
    "the Super class\n",
    "- a. Inside the Modified_Super class, create a function named ‘fun1’ and\n",
    "pass the following message inside the print statement: ‘This is function 1 in\n",
    "the Modified Super class.’\n",
    "- b. Create another user-defined function named ‘fun2’ and pass the\n",
    "message: ‘This is the 2nd function from the Modified Super class’ in the\n",
    "print statement.\n",
    "- c. After that, now create an object for the Modified_Super class and call the\n",
    "fun1().\n",
    "3. Create 2 methods named ‘Hello’. In the 1st Hello method, pass only one\n",
    "argument and pass this message: ‘This function is only having 1\n",
    "argument’. And in the 2nd Hello method, pass two arguments and pass\n",
    "this message: ‘This function is having 2 arguments’.\n",
    "- a. Try to call both the methods and analyze the output of both the methods.\n",
    "4. Create a method named ‘Sum’ that can accept multiple user inputs. Now\n",
    "add those user defined input values using for loop and the function should\n",
    "return the addition of the numbers.\n",
    "5. Create a class named ‘Encapsulation’:\n",
    "- a. Inside the class, first create a constructor. Inside the constructor,\n",
    "initialize originalValue variable as 10.\n",
    "- b. After creating the constructor, define a function named ‘Value’ and this\n",
    "function should return the variable that we have initialized in the\n",
    "constructor.\n",
    "- c. Now create a 2nd function named setValue, and pass an argument\n",
    "named ‘newValue’. The task of this function will be to replace the value of\n",
    "the originalValue variable by the value of newValue variable.\n"
   ]
  },
  {
   "cell_type": "code",
   "execution_count": 3,
   "id": "734d9e60",
   "metadata": {},
   "outputs": [
    {
     "name": "stdout",
     "output_type": "stream",
     "text": [
      "This is function 1 in the Modified Super class.\n"
     ]
    }
   ],
   "source": [
    "class Super:\n",
    "    def fun1(self):\n",
    "        print('This is function 1 in the Super class.')\n",
    "        \n",
    "class Modified_Super:\n",
    "    def fun1(self):\n",
    "        print('This is function 1 in the Modified Super class.')\n",
    "    def fun2(self):\n",
    "        print('This is the 2nd function from the Modified Super class')\n",
    "        \n",
    "obj = Modified_Super()\n",
    "obj.fun1()"
   ]
  },
  {
   "cell_type": "code",
   "execution_count": 8,
   "id": "7a871bdf",
   "metadata": {},
   "outputs": [
    {
     "ename": "TypeError",
     "evalue": "Hello() missing 1 required positional argument: 'b'",
     "output_type": "error",
     "traceback": [
      "\u001b[1;31m---------------------------------------------------------------------------\u001b[0m",
      "\u001b[1;31mTypeError\u001b[0m                                 Traceback (most recent call last)",
      "Cell \u001b[1;32mIn[8], line 6\u001b[0m\n\u001b[0;32m      3\u001b[0m \u001b[38;5;28;01mdef\u001b[39;00m \u001b[38;5;21mHello\u001b[39m(a,b):\n\u001b[0;32m      4\u001b[0m     \u001b[38;5;28mprint\u001b[39m(\u001b[38;5;124m'\u001b[39m\u001b[38;5;124mThis function is having 2 arguments\u001b[39m\u001b[38;5;124m'\u001b[39m)\n\u001b[1;32m----> 6\u001b[0m \u001b[43mHello\u001b[49m\u001b[43m(\u001b[49m\u001b[38;5;241;43m1\u001b[39;49m\u001b[43m)\u001b[49m\n",
      "\u001b[1;31mTypeError\u001b[0m: Hello() missing 1 required positional argument: 'b'"
     ]
    }
   ],
   "source": [
    "def Hello(a):\n",
    "    print('This function is only having 1 argument')\n",
    "def Hello(a,b):\n",
    "    print('This function is having 2 arguments')\n",
    "    \n",
    "Hello(1)"
   ]
  },
  {
   "cell_type": "code",
   "execution_count": 9,
   "id": "a55e546f",
   "metadata": {},
   "outputs": [
    {
     "name": "stdout",
     "output_type": "stream",
     "text": [
      "This function is having 2 arguments\n"
     ]
    }
   ],
   "source": [
    "Hello(1,2)"
   ]
  },
  {
   "cell_type": "code",
   "execution_count": 11,
   "id": "d412d2fd",
   "metadata": {},
   "outputs": [
    {
     "data": {
      "text/plain": [
       "6"
      ]
     },
     "execution_count": 11,
     "metadata": {},
     "output_type": "execute_result"
    }
   ],
   "source": [
    "def Sum(*args):\n",
    "    s=0\n",
    "    for i in args:\n",
    "        s += i\n",
    "    return s\n",
    "\n",
    "Sum(1,2,3)"
   ]
  },
  {
   "cell_type": "code",
   "execution_count": 12,
   "id": "2f6f354f",
   "metadata": {},
   "outputs": [
    {
     "data": {
      "text/plain": [
       "55"
      ]
     },
     "execution_count": 12,
     "metadata": {},
     "output_type": "execute_result"
    }
   ],
   "source": [
    "Sum(1,2,3,4,5,6,7,8,9,10)"
   ]
  },
  {
   "cell_type": "code",
   "execution_count": 15,
   "id": "d0a44211",
   "metadata": {},
   "outputs": [
    {
     "name": "stdout",
     "output_type": "stream",
     "text": [
      "10\n",
      "20\n"
     ]
    }
   ],
   "source": [
    "# Create a class named ‘Encapsulation’:\n",
    "# a. Inside the class, first create a constructor. Inside the constructor, initialize originalValue variable as 10.\n",
    "# b. After creating the constructor, define a function named ‘Value’ and this function should return the variable that we have initialized in the constructor.\n",
    "# c. Now create a 2nd function named setValue, and pass an argument named ‘newValue’. The task of this function will be to replace the value of the originalValue variable by the value of newValue variable.\n",
    "\n",
    "class Encapsulation:\n",
    "    def __init__(self):\n",
    "        self.originalValue = 10\n",
    "    def Value(self):\n",
    "        return(self.originalValue)\n",
    "    def setValue(self,newValue):\n",
    "        self.originalValue = newValue\n",
    "        \n",
    "obj = Encapsulation()\n",
    "print(obj.Value())\n",
    "obj.setValue(20)\n",
    "print(obj.Value())"
   ]
  },
  {
   "cell_type": "code",
   "execution_count": null,
   "id": "f2030b79",
   "metadata": {},
   "outputs": [],
   "source": []
  }
 ],
 "metadata": {
  "kernelspec": {
   "display_name": "Python 3 (ipykernel)",
   "language": "python",
   "name": "python3"
  },
  "language_info": {
   "codemirror_mode": {
    "name": "ipython",
    "version": 3
   },
   "file_extension": ".py",
   "mimetype": "text/x-python",
   "name": "python",
   "nbconvert_exporter": "python",
   "pygments_lexer": "ipython3",
   "version": "3.10.9"
  }
 },
 "nbformat": 4,
 "nbformat_minor": 5
}
