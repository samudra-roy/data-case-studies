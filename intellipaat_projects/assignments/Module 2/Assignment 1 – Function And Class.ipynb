{
 "cells": [
  {
   "cell_type": "markdown",
   "id": "b542ea56",
   "metadata": {},
   "source": [
    "# Assignment 1 – Function And Class"
   ]
  },
  {
   "cell_type": "markdown",
   "id": "3c484641",
   "metadata": {},
   "source": [
    "## Problem Statement:\n",
    "You work in XYZ Corporation as a Data Analyst. Your corporation has told you to\n",
    "work on functions and classes."
   ]
  },
  {
   "cell_type": "markdown",
   "id": "c9dc2da7",
   "metadata": {},
   "source": [
    "## Tasks To Be Performed:\n",
    "1. Create a function named ‘factor’ that can only accept 1 argument. The function should return the factorial of that number."
   ]
  },
  {
   "cell_type": "code",
   "execution_count": 6,
   "id": "af3f0fa3",
   "metadata": {},
   "outputs": [
    {
     "data": {
      "text/plain": [
       "3628800"
      ]
     },
     "execution_count": 6,
     "metadata": {},
     "output_type": "execute_result"
    }
   ],
   "source": [
    "def factor(n):\n",
    "    result = 1\n",
    "    for i in range(n,0,-1):\n",
    "        result *= i\n",
    "    return(result)\n",
    "\n",
    "factor(10)"
   ]
  },
  {
   "cell_type": "markdown",
   "id": "af2d7465",
   "metadata": {},
   "source": [
    "2. Create a function named ‘check_string’, the function should accept a string\n",
    "data from the user and the function should check if the user input contains\n",
    "the letter ‘s’ in it. If it contains the letter ‘s’ then print- ‘The string is\n",
    "containing the letter ‘s’’, if not then print- ‘The string doesn’t contain the\n",
    "letter ‘s’’."
   ]
  },
  {
   "cell_type": "code",
   "execution_count": 11,
   "id": "609f348e",
   "metadata": {},
   "outputs": [
    {
     "name": "stdout",
     "output_type": "stream",
     "text": [
      "The string doesn't contain the letter s\n",
      "The string is containing the letter s\n"
     ]
    }
   ],
   "source": [
    "def check_string(inp):\n",
    "    if 's' in inp.lower():\n",
    "        print('The string is containing the letter s')\n",
    "    else:\n",
    "        print('The string doesn\\'t contain the letter s')\n",
    "        \n",
    "check_string('Hello')\n",
    "check_string('Sup')"
   ]
  },
  {
   "cell_type": "markdown",
   "id": "2d361acf",
   "metadata": {},
   "source": [
    "3. Create a class named ‘student’ and inside the class, create a function\n",
    "named ‘fun1’- this method should accept the user defined input and return\n",
    "that value:\n",
    "- a. Create another method named- message() and that method should print\n",
    "the user defined input that we have defined in ‘fun1’.\n"
   ]
  },
  {
   "cell_type": "code",
   "execution_count": 32,
   "id": "8e80ec88",
   "metadata": {},
   "outputs": [
    {
     "name": "stdout",
     "output_type": "stream",
     "text": [
      "hello\n",
      "hello\n"
     ]
    }
   ],
   "source": [
    "class student:\n",
    "    def fun1(self):\n",
    "        inp = input()\n",
    "        return(inp)\n",
    "    def message(self):\n",
    "        print(self.fun1())\n",
    "        \n",
    "o = student()\n",
    "o.message()"
   ]
  },
  {
   "cell_type": "markdown",
   "id": "804447a8",
   "metadata": {},
   "source": [
    "4. Create a lambda function that should double or multiply the number (that\n",
    "we will be passing in the lambda function) by 2. Store the lambda function\n",
    "in a variable named ‘double_num’."
   ]
  },
  {
   "cell_type": "code",
   "execution_count": 33,
   "id": "03721d8c",
   "metadata": {},
   "outputs": [
    {
     "data": {
      "text/plain": [
       "8"
      ]
     },
     "execution_count": 33,
     "metadata": {},
     "output_type": "execute_result"
    }
   ],
   "source": [
    "double_num = lambda x:x*2\n",
    "\n",
    "double_num(4)"
   ]
  },
  {
   "cell_type": "markdown",
   "id": "90037d30",
   "metadata": {},
   "source": [
    "5. Take user input string and check whether that string is palindrome or not."
   ]
  },
  {
   "cell_type": "code",
   "execution_count": 37,
   "id": "96754ad8",
   "metadata": {},
   "outputs": [
    {
     "name": "stdout",
     "output_type": "stream",
     "text": [
      "abcba\n",
      "Palindrome\n"
     ]
    }
   ],
   "source": [
    "s = input()\n",
    "if s==s[::-1]:\n",
    "    print('Palindrome')\n",
    "else:\n",
    "    print('Not a palindrome')"
   ]
  }
 ],
 "metadata": {
  "kernelspec": {
   "display_name": "Python 3 (ipykernel)",
   "language": "python",
   "name": "python3"
  },
  "language_info": {
   "codemirror_mode": {
    "name": "ipython",
    "version": 3
   },
   "file_extension": ".py",
   "mimetype": "text/x-python",
   "name": "python",
   "nbconvert_exporter": "python",
   "pygments_lexer": "ipython3",
   "version": "3.10.9"
  }
 },
 "nbformat": 4,
 "nbformat_minor": 5
}
