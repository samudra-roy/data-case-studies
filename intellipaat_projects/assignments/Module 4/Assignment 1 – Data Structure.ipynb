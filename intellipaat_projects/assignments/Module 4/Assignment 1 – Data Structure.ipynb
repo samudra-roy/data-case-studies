{
 "cells": [
  {
   "cell_type": "markdown",
   "id": "03e3822f",
   "metadata": {},
   "source": [
    "# Assignment 1 – Data Structure"
   ]
  },
  {
   "cell_type": "markdown",
   "id": "b8fe7367",
   "metadata": {},
   "source": [
    "## Problem Statement:\n",
    "You work in XYZ Corporation as a Data Analyst. Your corporation has told you to\n",
    "work with the structure of the data.\n",
    "## Tasks To Be Performed:\n",
    "1. Create a list named ‘myList’ that has the following elements: 10, 20, 30,\n",
    "‘apple’, True, 8.10:\n",
    "- a. Now in the ‘myList’, append these values: 30, 40\n",
    "- b. After that, reverse the elements of the ‘myList’ and store that in\n",
    "‘reversedList’\n",
    "2. Create a dictionary with key values as 1, 2, 3 and the values as ‘data’,\n",
    "‘information’ and ‘text’:\n",
    "- a. After that, eliminate the ‘text’ value from the dictionary\n",
    "- b. Add ‘features’ in the dictionary\n",
    "- c. Fetch the ‘data’ element from the dictionary and display it in the output\n",
    "3. Create a tuple and add these elements 1, 2, 3, apple, mango in my_tuple.\n",
    "4. Create another tuple named numeric_tuple consisting of only integer\n",
    "values 10, 20, 30, 40, 50:\n",
    "- a. Find the minimum value from the numeric_tuple\n",
    "- b. Concatenate my_tuple with numeric_tuple and store the result in r1\n",
    "- c. Duplicate the tuple named my_tuple 2 times and store that in ‘newdupli’\n",
    "5. Create 2 sets with the names set1 and set2, where set1 contains\n",
    "{1,2,3,4,5} and set2 contains {2,3,7,6,1}\n",
    "Perform the below operation:\n",
    "- a. set1 union set2\n",
    "- b. set1 intersection set2\n",
    "- c. set1 difference set2\n"
   ]
  },
  {
   "cell_type": "code",
   "execution_count": 1,
   "id": "3840abaf",
   "metadata": {},
   "outputs": [],
   "source": [
    "import numpy as np"
   ]
  },
  {
   "cell_type": "code",
   "execution_count": 10,
   "id": "a3c125e7",
   "metadata": {},
   "outputs": [
    {
     "data": {
      "text/plain": [
       "array(['10', '20', '30', 'apple', 'True', '8.1'], dtype='<U32')"
      ]
     },
     "execution_count": 10,
     "metadata": {},
     "output_type": "execute_result"
    }
   ],
   "source": [
    "myList = np.array([10, 20, 30, 'apple', True, 8.10])\n",
    "myList"
   ]
  },
  {
   "cell_type": "code",
   "execution_count": 12,
   "id": "3f26ef4f",
   "metadata": {},
   "outputs": [
    {
     "data": {
      "text/plain": [
       "array(['10', '20', '30', 'apple', 'True', '8.1', '30', '40'], dtype='<U32')"
      ]
     },
     "execution_count": 12,
     "metadata": {},
     "output_type": "execute_result"
    }
   ],
   "source": [
    "myList = np.append(myList,(30,40))\n",
    "myList"
   ]
  },
  {
   "cell_type": "code",
   "execution_count": 13,
   "id": "dee355cc",
   "metadata": {},
   "outputs": [
    {
     "data": {
      "text/plain": [
       "array(['40', '30', '8.1', 'True', 'apple', '30', '20', '10'], dtype='<U32')"
      ]
     },
     "execution_count": 13,
     "metadata": {},
     "output_type": "execute_result"
    }
   ],
   "source": [
    "reversedList = np.flip(myList)\n",
    "reversedList"
   ]
  },
  {
   "cell_type": "code",
   "execution_count": 38,
   "id": "070f0f67",
   "metadata": {},
   "outputs": [
    {
     "data": {
      "text/plain": [
       "{1: 'data', 2: 'information', 3: 'text'}"
      ]
     },
     "execution_count": 38,
     "metadata": {},
     "output_type": "execute_result"
    }
   ],
   "source": [
    "dic = {1:'data',2:'information',3:'text'}\n",
    "dic"
   ]
  },
  {
   "cell_type": "code",
   "execution_count": 39,
   "id": "42ef45ea",
   "metadata": {},
   "outputs": [
    {
     "data": {
      "text/plain": [
       "{1: 'data', 2: 'information'}"
      ]
     },
     "execution_count": 39,
     "metadata": {},
     "output_type": "execute_result"
    }
   ],
   "source": [
    "dic = {key:value for (key,value) in dic.items() if value!='text'}\n",
    "dic"
   ]
  },
  {
   "cell_type": "code",
   "execution_count": 43,
   "id": "abde5530",
   "metadata": {},
   "outputs": [
    {
     "data": {
      "text/plain": [
       "{1: 'data', 2: 'information', 3: 'features'}"
      ]
     },
     "execution_count": 43,
     "metadata": {},
     "output_type": "execute_result"
    }
   ],
   "source": [
    "dic[3] = 'features'\n",
    "dic"
   ]
  },
  {
   "cell_type": "code",
   "execution_count": 45,
   "id": "a02f7adf",
   "metadata": {},
   "outputs": [
    {
     "name": "stdout",
     "output_type": "stream",
     "text": [
      "1 data\n"
     ]
    }
   ],
   "source": [
    "for k,v in dic.items():\n",
    "    if(v=='data'):\n",
    "        print(k,v)"
   ]
  },
  {
   "cell_type": "code",
   "execution_count": 48,
   "id": "8382fa3d",
   "metadata": {},
   "outputs": [
    {
     "data": {
      "text/plain": [
       "(1, 2, 3, 'apple', 'mango')"
      ]
     },
     "execution_count": 48,
     "metadata": {},
     "output_type": "execute_result"
    }
   ],
   "source": [
    "my_tuple = (1, 2, 3, 'apple', 'mango')\n",
    "my_tuple"
   ]
  },
  {
   "cell_type": "code",
   "execution_count": 49,
   "id": "6148019c",
   "metadata": {},
   "outputs": [
    {
     "data": {
      "text/plain": [
       "(10, 20, 30, 40, 50)"
      ]
     },
     "execution_count": 49,
     "metadata": {},
     "output_type": "execute_result"
    }
   ],
   "source": [
    "numeric_tuple = (10, 20, 30, 40, 50)\n",
    "numeric_tuple"
   ]
  },
  {
   "cell_type": "code",
   "execution_count": 50,
   "id": "ba62b210",
   "metadata": {},
   "outputs": [
    {
     "data": {
      "text/plain": [
       "10"
      ]
     },
     "execution_count": 50,
     "metadata": {},
     "output_type": "execute_result"
    }
   ],
   "source": [
    "min(numeric_tuple)"
   ]
  },
  {
   "cell_type": "code",
   "execution_count": 54,
   "id": "53c4232a",
   "metadata": {},
   "outputs": [
    {
     "data": {
      "text/plain": [
       "(1, 2, 3, 'apple', 'mango', 10, 20, 30, 40, 50)"
      ]
     },
     "execution_count": 54,
     "metadata": {},
     "output_type": "execute_result"
    }
   ],
   "source": [
    "r1 = my_tuple + numeric_tuple\n",
    "r1"
   ]
  },
  {
   "cell_type": "code",
   "execution_count": 56,
   "id": "006effe5",
   "metadata": {},
   "outputs": [
    {
     "data": {
      "text/plain": [
       "array(['1', '2', '3', 'apple', 'mango', '1', '2', '3', 'apple', 'mango'],\n",
       "      dtype='<U11')"
      ]
     },
     "execution_count": 56,
     "metadata": {},
     "output_type": "execute_result"
    }
   ],
   "source": [
    "newdupli = np.copy(my_tuple*2)\n",
    "newdupli"
   ]
  },
  {
   "cell_type": "code",
   "execution_count": 57,
   "id": "f0445694",
   "metadata": {},
   "outputs": [],
   "source": [
    "set1 = {1,2,3,4,5}\n",
    "set2 = {2,3,7,6,1}"
   ]
  },
  {
   "cell_type": "code",
   "execution_count": 58,
   "id": "b66dd89a",
   "metadata": {},
   "outputs": [
    {
     "data": {
      "text/plain": [
       "{1, 2, 3, 4, 5, 6, 7}"
      ]
     },
     "execution_count": 58,
     "metadata": {},
     "output_type": "execute_result"
    }
   ],
   "source": [
    "set1 | set2"
   ]
  },
  {
   "cell_type": "code",
   "execution_count": 59,
   "id": "835c42ee",
   "metadata": {},
   "outputs": [
    {
     "data": {
      "text/plain": [
       "{1, 2, 3}"
      ]
     },
     "execution_count": 59,
     "metadata": {},
     "output_type": "execute_result"
    }
   ],
   "source": [
    "set1 & set2"
   ]
  },
  {
   "cell_type": "code",
   "execution_count": 60,
   "id": "9ebd000c",
   "metadata": {},
   "outputs": [
    {
     "data": {
      "text/plain": [
       "{4, 5}"
      ]
     },
     "execution_count": 60,
     "metadata": {},
     "output_type": "execute_result"
    }
   ],
   "source": [
    "set1 - set2"
   ]
  }
 ],
 "metadata": {
  "kernelspec": {
   "display_name": "Python 3 (ipykernel)",
   "language": "python",
   "name": "python3"
  },
  "language_info": {
   "codemirror_mode": {
    "name": "ipython",
    "version": 3
   },
   "file_extension": ".py",
   "mimetype": "text/x-python",
   "name": "python",
   "nbconvert_exporter": "python",
   "pygments_lexer": "ipython3",
   "version": "3.10.9"
  }
 },
 "nbformat": 4,
 "nbformat_minor": 5
}
