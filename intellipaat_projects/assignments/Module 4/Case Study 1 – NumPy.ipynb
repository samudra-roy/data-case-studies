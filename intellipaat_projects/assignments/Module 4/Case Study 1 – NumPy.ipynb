{
 "cells": [
  {
   "cell_type": "markdown",
   "id": "07ff5137",
   "metadata": {},
   "source": [
    "# Case Study 1 – NumPy"
   ]
  },
  {
   "cell_type": "markdown",
   "id": "95b73009",
   "metadata": {},
   "source": [
    "## Problem Statement:\n",
    "You work in XYZ Company as a Python developer. The company officials want\n",
    "you to build a Python program.\n",
    "Tasks To Be Performed:\n",
    "1. Create a function that takes dimensions as tuples e.g. (3, 3) and a numeric\n",
    "value and returns a NumPy array of the given dimension filled with the\n",
    "given value e.g.: solve((3, 3), 5) will return\n",
    "[\n",
    "[5, 5, 5],\n",
    "[5, 5, 5],\n",
    "[5, 5, 5]\n",
    "]\n",
    "2. Create a method that takes n NumPy arrays of the same dimensions,\n",
    "sums them and returns the answer.\n",
    "3. Given a 2 D Array of N X M Dimension, write a function that accepts this\n",
    "array as well as two numbers N and M. The method should return the\n",
    "top-left N X M sub matrix, e.g:\n",
    "[\n",
    "[1, 2, 3],\n",
    "[4, 5, 6],\n",
    "[7, 8, 9],\n",
    "]\n",
    "top_left_sub_matrix (matrix, 2, 2) -> should return:\n",
    "[\n",
    "[1, 2]\n",
    "[4, 5]\n",
    "]\n",
    "4. Given a 2 D Array of N X M Dimension, write a function that accepts this\n",
    "array as well as two numbers N and M. The method should return the\n",
    "bottom-right N X M sub matrix, e.g:\n",
    "[\n",
    "[1, 2, 3],\n",
    "[4, 5, 6],\n",
    "[7, 8, 9],\n",
    "]\n",
    "sub_matrix(matrix, 1, 1) -> should return : (Keep in mind these arrays are\n",
    "zero indexed)\n",
    "[\n",
    "[5, 6]\n",
    "[8, 9]\n",
    "]\n",
    "5. Given a 1 D NumPy Array. Write a function that accepts this array as\n",
    "parameters. The method should return a dictionary with 'mean' and\n",
    "'std_dev' as key and array's mean and array's standard deviation as\n",
    "values:\n",
    "[1, 1, 1]\n",
    "solution(arr) -> should return :\n",
    "{'mean': 1.0, 'std_dev': 0.0}"
   ]
  },
  {
   "cell_type": "code",
   "execution_count": 2,
   "id": "46974f3a",
   "metadata": {},
   "outputs": [],
   "source": [
    "import numpy as np"
   ]
  },
  {
   "cell_type": "code",
   "execution_count": 8,
   "id": "746c37f1",
   "metadata": {},
   "outputs": [],
   "source": [
    "def f(d,n):\n",
    "    return np.full(d,n)"
   ]
  },
  {
   "cell_type": "code",
   "execution_count": 9,
   "id": "f36f1d3a",
   "metadata": {
    "scrolled": true
   },
   "outputs": [
    {
     "data": {
      "text/plain": [
       "array([[5, 5, 5],\n",
       "       [5, 5, 5],\n",
       "       [5, 5, 5]])"
      ]
     },
     "execution_count": 9,
     "metadata": {},
     "output_type": "execute_result"
    }
   ],
   "source": [
    "f((3,3),5)"
   ]
  },
  {
   "cell_type": "code",
   "execution_count": 59,
   "id": "3843feb8",
   "metadata": {},
   "outputs": [],
   "source": [
    "def f2(*argv):\n",
    "    s = np.full(np.array(argv[0]).shape, 0)\n",
    "    for i in argv:\n",
    "        i = np.array(i)\n",
    "        print(i)\n",
    "#         s = np.sum(s, i)\n",
    "        s=s+i\n",
    "    return s"
   ]
  },
  {
   "cell_type": "code",
   "execution_count": 61,
   "id": "f756d79a",
   "metadata": {},
   "outputs": [
    {
     "name": "stdout",
     "output_type": "stream",
     "text": [
      "[1 2 3]\n",
      "[4 5 6]\n",
      "[7 8 9]\n"
     ]
    },
    {
     "data": {
      "text/plain": [
       "array([12, 15, 18])"
      ]
     },
     "execution_count": 61,
     "metadata": {},
     "output_type": "execute_result"
    }
   ],
   "source": [
    "f2([1,2,3],[4,5,6],[7,8,9])"
   ]
  },
  {
   "cell_type": "code",
   "execution_count": 84,
   "id": "adf1ec38",
   "metadata": {},
   "outputs": [],
   "source": [
    "def f3(mat,n,m):\n",
    "    return(mat[:n,:m])"
   ]
  },
  {
   "cell_type": "code",
   "execution_count": 85,
   "id": "b202ed52",
   "metadata": {},
   "outputs": [
    {
     "data": {
      "text/plain": [
       "array([[1, 2],\n",
       "       [4, 5]])"
      ]
     },
     "execution_count": 85,
     "metadata": {},
     "output_type": "execute_result"
    }
   ],
   "source": [
    "mat = np.array([ [1, 2, 3], [4, 5, 6], [7, 8, 9], ] )\n",
    "f3(mat,2,2)"
   ]
  },
  {
   "cell_type": "code",
   "execution_count": 92,
   "id": "f6e7ff8d",
   "metadata": {},
   "outputs": [],
   "source": [
    "def f4(mat,n,m):\n",
    "    return(mat[-(n+1):, -(m+1):])"
   ]
  },
  {
   "cell_type": "code",
   "execution_count": 93,
   "id": "bcd56bda",
   "metadata": {},
   "outputs": [
    {
     "data": {
      "text/plain": [
       "array([[5, 6],\n",
       "       [8, 9]])"
      ]
     },
     "execution_count": 93,
     "metadata": {},
     "output_type": "execute_result"
    }
   ],
   "source": [
    "mat = np.array([ [1, 2, 3], [4, 5, 6], [7, 8, 9], ] )\n",
    "f4(mat,1,1)"
   ]
  },
  {
   "cell_type": "code",
   "execution_count": 94,
   "id": "43a1c5e2",
   "metadata": {},
   "outputs": [],
   "source": [
    "def f5(a):\n",
    "    return({'mean':a.mean(), 'std_dev':a.std()})"
   ]
  },
  {
   "cell_type": "code",
   "execution_count": 95,
   "id": "25125655",
   "metadata": {},
   "outputs": [
    {
     "data": {
      "text/plain": [
       "{'mean': 3.0, 'std_dev': 1.4142135623730951}"
      ]
     },
     "execution_count": 95,
     "metadata": {},
     "output_type": "execute_result"
    }
   ],
   "source": [
    "f5(np.array([1,2,3,4,5]))"
   ]
  }
 ],
 "metadata": {
  "kernelspec": {
   "display_name": "Python 3 (ipykernel)",
   "language": "python",
   "name": "python3"
  },
  "language_info": {
   "codemirror_mode": {
    "name": "ipython",
    "version": 3
   },
   "file_extension": ".py",
   "mimetype": "text/x-python",
   "name": "python",
   "nbconvert_exporter": "python",
   "pygments_lexer": "ipython3",
   "version": "3.10.9"
  }
 },
 "nbformat": 4,
 "nbformat_minor": 5
}
